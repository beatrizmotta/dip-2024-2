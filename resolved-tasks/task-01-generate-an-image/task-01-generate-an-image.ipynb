{
  "cells": [
    {
      "cell_type": "code",
      "source": [
        "import argparse\n",
        "import numpy as np\n",
        "import cv2\n",
        "\n",
        "def generate_image(seed, width, height, mean, std):\n",
        "    \"\"\"\n",
        "    Generates a grayscale image with pixel values sampled from a normal distribution.\n",
        "\n",
        "    Args:\n",
        "        seed (int): Random seed for reproducibility (student's registration number).\n",
        "        width (int): Width of the generated image.\n",
        "        height (int): Height of the generated image.\n",
        "        mean (float): Mean of the normal distribution.\n",
        "        std (float): Standard deviation of the normal distribution.\n",
        "\n",
        "    Returns:\n",
        "        image (numpy.ndarray): The generated image.\n",
        "    \"\"\"\n",
        "    ### START CODE HERE ###\n",
        "    ### TODO\n",
        "    ### END CODE HERE ###\n",
        "\n",
        "    return image\n",
        "\n",
        "def main():\n",
        "    # Argument parser\n",
        "    parser = argparse.ArgumentParser(description=\"Generate an image with pixel values sampled from a normal distribution.\")\n",
        "\n",
        "    parser.add_argument('--registration_number', type=int, required=True, help=\"Student's registration number (used as seed)\")\n",
        "    parser.add_argument('--width', type=int, required=True, help=\"Width of the image\")\n",
        "    parser.add_argument('--height', type=int, required=True, help=\"Height of the image\")\n",
        "    parser.add_argument('--mean', type=float, required=True, help=\"Mean of the normal distribution\")\n",
        "    parser.add_argument('--std', type=float, required=True, help=\"Standard deviation of the normal distribution\")\n",
        "    parser.add_argument('--output', type=str, required=True, help=\"Path to save the generated image\")\n",
        "\n",
        "    args = parser.parse_args()\n",
        "\n",
        "    # Generate the image\n",
        "    image = generate_image(args.registration_number, args.width, args.height, args.mean, args.std)\n",
        "\n",
        "    # Save the generated image\n",
        "    cv2.imwrite(args.output, image)\n",
        "\n",
        "    print(f\"Image successfully generated and saved to {args.output}\")\n",
        "\n",
        "if __name__ == \"__main__\":\n",
        "    main()"
      ],
      "metadata": {
        "id": "dc-V4BsX-l-R"
      },
      "execution_count": null,
      "outputs": []
    }
  ],
  "metadata": {
    "language_info": {
      "name": "python"
    },
    "colab": {
      "provenance": []
    }
  },
  "nbformat": 4,
  "nbformat_minor": 0
}